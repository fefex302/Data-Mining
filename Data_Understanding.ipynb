{
 "cells": [
  {
   "cell_type": "code",
   "execution_count": 19,
   "metadata": {},
   "outputs": [],
   "source": [
    "import numpy as np\n",
    "import pandas as pd\n",
    "import seaborn as sns\n",
    "from tqdm import tqdm\n",
    "import matplotlib.pyplot as plt\n",
    "from dataunderstanding import correlations\n",
    "\n",
    "#For the complex elaboration\n",
    "from concurrent.futures import ThreadPoolExecutor\n",
    "from concurrent.futures import ProcessPoolExecutor"
   ]
  },
  {
   "cell_type": "code",
   "execution_count": 20,
   "metadata": {},
   "outputs": [
    {
     "data": {
      "text/html": [
       "<div>\n",
       "<style scoped>\n",
       "    .dataframe tbody tr th:only-of-type {\n",
       "        vertical-align: middle;\n",
       "    }\n",
       "\n",
       "    .dataframe tbody tr th {\n",
       "        vertical-align: top;\n",
       "    }\n",
       "\n",
       "    .dataframe thead th {\n",
       "        text-align: right;\n",
       "    }\n",
       "</style>\n",
       "<table border=\"1\" class=\"dataframe\">\n",
       "  <thead>\n",
       "    <tr style=\"text-align: right;\">\n",
       "      <th></th>\n",
       "      <th>_url</th>\n",
       "      <th>name</th>\n",
       "      <th>birth_year</th>\n",
       "      <th>weight</th>\n",
       "      <th>height</th>\n",
       "      <th>nationality</th>\n",
       "    </tr>\n",
       "  </thead>\n",
       "  <tbody>\n",
       "    <tr>\n",
       "      <th>0</th>\n",
       "      <td>bruno-surra</td>\n",
       "      <td>Bruno  Surra</td>\n",
       "      <td>1964.0</td>\n",
       "      <td>NaN</td>\n",
       "      <td>NaN</td>\n",
       "      <td>Italy</td>\n",
       "    </tr>\n",
       "    <tr>\n",
       "      <th>1</th>\n",
       "      <td>gerard-rue</td>\n",
       "      <td>Gérard  Rué</td>\n",
       "      <td>1965.0</td>\n",
       "      <td>74.0</td>\n",
       "      <td>182.0</td>\n",
       "      <td>France</td>\n",
       "    </tr>\n",
       "    <tr>\n",
       "      <th>2</th>\n",
       "      <td>jan-maas</td>\n",
       "      <td>Jan  Maas</td>\n",
       "      <td>1996.0</td>\n",
       "      <td>69.0</td>\n",
       "      <td>189.0</td>\n",
       "      <td>Netherlands</td>\n",
       "    </tr>\n",
       "    <tr>\n",
       "      <th>3</th>\n",
       "      <td>nathan-van-hooydonck</td>\n",
       "      <td>Nathan Van Hooydonck</td>\n",
       "      <td>1995.0</td>\n",
       "      <td>78.0</td>\n",
       "      <td>192.0</td>\n",
       "      <td>Belgium</td>\n",
       "    </tr>\n",
       "    <tr>\n",
       "      <th>4</th>\n",
       "      <td>jose-felix-parra</td>\n",
       "      <td>José Félix  Parra</td>\n",
       "      <td>1997.0</td>\n",
       "      <td>55.0</td>\n",
       "      <td>171.0</td>\n",
       "      <td>Spain</td>\n",
       "    </tr>\n",
       "  </tbody>\n",
       "</table>\n",
       "</div>"
      ],
      "text/plain": [
       "                   _url                  name  birth_year  weight  height  \\\n",
       "0           bruno-surra          Bruno  Surra      1964.0     NaN     NaN   \n",
       "1            gerard-rue           Gérard  Rué      1965.0    74.0   182.0   \n",
       "2              jan-maas             Jan  Maas      1996.0    69.0   189.0   \n",
       "3  nathan-van-hooydonck  Nathan Van Hooydonck      1995.0    78.0   192.0   \n",
       "4      jose-felix-parra     José Félix  Parra      1997.0    55.0   171.0   \n",
       "\n",
       "   nationality  \n",
       "0        Italy  \n",
       "1       France  \n",
       "2  Netherlands  \n",
       "3      Belgium  \n",
       "4        Spain  "
      ]
     },
     "execution_count": 20,
     "metadata": {},
     "output_type": "execute_result"
    }
   ],
   "source": [
    "# Carica il dataset da un file CSV\n",
    "cyclists = pd.read_csv('dataset/cyclists.csv')\n",
    "races = pd.read_csv('dataset/races.csv')\n",
    "# Mostra le prime righe del dataset\n",
    "cyclists.head()\n"
   ]
  },
  {
   "cell_type": "code",
   "execution_count": 21,
   "metadata": {},
   "outputs": [
    {
     "name": "stdout",
     "output_type": "stream",
     "text": [
      "<class 'pandas.core.frame.DataFrame'>\n",
      "RangeIndex: 6134 entries, 0 to 6133\n",
      "Data columns (total 6 columns):\n",
      " #   Column       Non-Null Count  Dtype  \n",
      "---  ------       --------------  -----  \n",
      " 0   _url         6134 non-null   object \n",
      " 1   name         6134 non-null   object \n",
      " 2   birth_year   6121 non-null   float64\n",
      " 3   weight       3078 non-null   float64\n",
      " 4   height       3143 non-null   float64\n",
      " 5   nationality  6133 non-null   object \n",
      "dtypes: float64(3), object(3)\n",
      "memory usage: 287.7+ KB\n"
     ]
    }
   ],
   "source": [
    "cyclists.info()\n"
   ]
  },
  {
   "cell_type": "code",
   "execution_count": 22,
   "metadata": {},
   "outputs": [
    {
     "name": "stdout",
     "output_type": "stream",
     "text": [
      "<class 'pandas.core.frame.DataFrame'>\n",
      "RangeIndex: 589865 entries, 0 to 589864\n",
      "Data columns (total 18 columns):\n",
      " #   Column               Non-Null Count   Dtype  \n",
      "---  ------               --------------   -----  \n",
      " 0   _url                 589865 non-null  object \n",
      " 1   name                 589865 non-null  object \n",
      " 2   points               589388 non-null  float64\n",
      " 3   uci_points           251086 non-null  float64\n",
      " 4   length               589865 non-null  float64\n",
      " 5   climb_total          442820 non-null  float64\n",
      " 6   profile              441671 non-null  float64\n",
      " 7   startlist_quality    589865 non-null  int64  \n",
      " 8   average_temperature  29933 non-null   float64\n",
      " 9   date                 589865 non-null  object \n",
      " 10  position             589865 non-null  int64  \n",
      " 11  cyclist              589865 non-null  object \n",
      " 12  cyclist_age          589752 non-null  float64\n",
      " 13  is_tarmac            589865 non-null  bool   \n",
      " 14  is_cobbled           589865 non-null  bool   \n",
      " 15  is_gravel            589865 non-null  bool   \n",
      " 16  cyclist_team         430704 non-null  object \n",
      " 17  delta                589865 non-null  float64\n",
      "dtypes: bool(3), float64(8), int64(2), object(5)\n",
      "memory usage: 69.2+ MB\n"
     ]
    }
   ],
   "source": [
    "races.info()"
   ]
  },
  {
   "cell_type": "code",
   "execution_count": 23,
   "metadata": {},
   "outputs": [],
   "source": [
    "races['points'] = races['points'].astype(object)\n",
    "races['uci_points'] = races['uci_points'].astype(object)\n",
    "races['profile'] = races['profile'].astype(object)\n",
    "races['startlist_quality'] = races['startlist_quality'].astype(object)\n",
    "\n"
   ]
  },
  {
   "cell_type": "markdown",
   "metadata": {},
   "source": [
    "Lo startlist_quality della gara è davvero categorico? Dato che è un valore che non è cappato potrebbe essere numerico."
   ]
  },
  {
   "cell_type": "code",
   "execution_count": 24,
   "metadata": {},
   "outputs": [
    {
     "name": "stdout",
     "output_type": "stream",
     "text": [
      "<class 'pandas.core.frame.DataFrame'>\n",
      "RangeIndex: 589865 entries, 0 to 589864\n",
      "Data columns (total 18 columns):\n",
      " #   Column               Non-Null Count   Dtype  \n",
      "---  ------               --------------   -----  \n",
      " 0   _url                 589865 non-null  object \n",
      " 1   name                 589865 non-null  object \n",
      " 2   points               589388 non-null  object \n",
      " 3   uci_points           251086 non-null  object \n",
      " 4   length               589865 non-null  float64\n",
      " 5   climb_total          442820 non-null  float64\n",
      " 6   profile              441671 non-null  object \n",
      " 7   startlist_quality    589865 non-null  object \n",
      " 8   average_temperature  29933 non-null   float64\n",
      " 9   date                 589865 non-null  object \n",
      " 10  position             589865 non-null  int64  \n",
      " 11  cyclist              589865 non-null  object \n",
      " 12  cyclist_age          589752 non-null  float64\n",
      " 13  is_tarmac            589865 non-null  bool   \n",
      " 14  is_cobbled           589865 non-null  bool   \n",
      " 15  is_gravel            589865 non-null  bool   \n",
      " 16  cyclist_team         430704 non-null  object \n",
      " 17  delta                589865 non-null  float64\n",
      "dtypes: bool(3), float64(5), int64(1), object(9)\n",
      "memory usage: 69.2+ MB\n"
     ]
    }
   ],
   "source": [
    "races.info()"
   ]
  },
  {
   "cell_type": "code",
   "execution_count": 25,
   "metadata": {},
   "outputs": [
    {
     "data": {
      "text/html": [
       "<div>\n",
       "<style scoped>\n",
       "    .dataframe tbody tr th:only-of-type {\n",
       "        vertical-align: middle;\n",
       "    }\n",
       "\n",
       "    .dataframe tbody tr th {\n",
       "        vertical-align: top;\n",
       "    }\n",
       "\n",
       "    .dataframe thead th {\n",
       "        text-align: right;\n",
       "    }\n",
       "</style>\n",
       "<table border=\"1\" class=\"dataframe\">\n",
       "  <thead>\n",
       "    <tr style=\"text-align: right;\">\n",
       "      <th></th>\n",
       "      <th>birth_year</th>\n",
       "      <th>weight</th>\n",
       "      <th>height</th>\n",
       "    </tr>\n",
       "  </thead>\n",
       "  <tbody>\n",
       "    <tr>\n",
       "      <th>0</th>\n",
       "      <td>1964.0</td>\n",
       "      <td>NaN</td>\n",
       "      <td>NaN</td>\n",
       "    </tr>\n",
       "    <tr>\n",
       "      <th>1</th>\n",
       "      <td>1965.0</td>\n",
       "      <td>74.0</td>\n",
       "      <td>182.0</td>\n",
       "    </tr>\n",
       "    <tr>\n",
       "      <th>2</th>\n",
       "      <td>1996.0</td>\n",
       "      <td>69.0</td>\n",
       "      <td>189.0</td>\n",
       "    </tr>\n",
       "    <tr>\n",
       "      <th>3</th>\n",
       "      <td>1995.0</td>\n",
       "      <td>78.0</td>\n",
       "      <td>192.0</td>\n",
       "    </tr>\n",
       "    <tr>\n",
       "      <th>4</th>\n",
       "      <td>1997.0</td>\n",
       "      <td>55.0</td>\n",
       "      <td>171.0</td>\n",
       "    </tr>\n",
       "    <tr>\n",
       "      <th>...</th>\n",
       "      <td>...</td>\n",
       "      <td>...</td>\n",
       "      <td>...</td>\n",
       "    </tr>\n",
       "    <tr>\n",
       "      <th>6129</th>\n",
       "      <td>1966.0</td>\n",
       "      <td>NaN</td>\n",
       "      <td>NaN</td>\n",
       "    </tr>\n",
       "    <tr>\n",
       "      <th>6130</th>\n",
       "      <td>1998.0</td>\n",
       "      <td>75.0</td>\n",
       "      <td>188.0</td>\n",
       "    </tr>\n",
       "    <tr>\n",
       "      <th>6131</th>\n",
       "      <td>1973.0</td>\n",
       "      <td>NaN</td>\n",
       "      <td>NaN</td>\n",
       "    </tr>\n",
       "    <tr>\n",
       "      <th>6132</th>\n",
       "      <td>1985.0</td>\n",
       "      <td>58.0</td>\n",
       "      <td>170.0</td>\n",
       "    </tr>\n",
       "    <tr>\n",
       "      <th>6133</th>\n",
       "      <td>1999.0</td>\n",
       "      <td>75.0</td>\n",
       "      <td>186.0</td>\n",
       "    </tr>\n",
       "  </tbody>\n",
       "</table>\n",
       "<p>6134 rows × 3 columns</p>\n",
       "</div>"
      ],
      "text/plain": [
       "      birth_year  weight  height\n",
       "0         1964.0     NaN     NaN\n",
       "1         1965.0    74.0   182.0\n",
       "2         1996.0    69.0   189.0\n",
       "3         1995.0    78.0   192.0\n",
       "4         1997.0    55.0   171.0\n",
       "...          ...     ...     ...\n",
       "6129      1966.0     NaN     NaN\n",
       "6130      1998.0    75.0   188.0\n",
       "6131      1973.0     NaN     NaN\n",
       "6132      1985.0    58.0   170.0\n",
       "6133      1999.0    75.0   186.0\n",
       "\n",
       "[6134 rows x 3 columns]"
      ]
     },
     "execution_count": 25,
     "metadata": {},
     "output_type": "execute_result"
    }
   ],
   "source": [
    "cyclists.select_dtypes(include=\"number\")\n"
   ]
  },
  {
   "cell_type": "code",
   "execution_count": 26,
   "metadata": {},
   "outputs": [
    {
     "data": {
      "text/plain": [
       "_url                        0\n",
       "name                        0\n",
       "points                    477\n",
       "uci_points             338779\n",
       "length                      0\n",
       "climb_total            147045\n",
       "profile                148194\n",
       "startlist_quality           0\n",
       "average_temperature    559932\n",
       "date                        0\n",
       "position                    0\n",
       "cyclist                     0\n",
       "cyclist_age               113\n",
       "is_tarmac                   0\n",
       "is_cobbled                  0\n",
       "is_gravel                   0\n",
       "cyclist_team           159161\n",
       "delta                       0\n",
       "dtype: int64"
      ]
     },
     "execution_count": 26,
     "metadata": {},
     "output_type": "execute_result"
    }
   ],
   "source": [
    "races.isnull().sum()"
   ]
  },
  {
   "cell_type": "code",
   "execution_count": 27,
   "metadata": {},
   "outputs": [],
   "source": [
    "races_numerical = races.select_dtypes(include=\"number\")\n"
   ]
  },
  {
   "cell_type": "code",
   "execution_count": 28,
   "metadata": {},
   "outputs": [
    {
     "data": {
      "text/plain": [
       "_url              0\n",
       "name              0\n",
       "birth_year       13\n",
       "weight         3056\n",
       "height         2991\n",
       "nationality       1\n",
       "dtype: int64"
      ]
     },
     "execution_count": 28,
     "metadata": {},
     "output_type": "execute_result"
    }
   ],
   "source": [
    "# Let's see how many missing values there are\n",
    "\n",
    "cyclists.isnull().sum()"
   ]
  },
  {
   "cell_type": "markdown",
   "metadata": {},
   "source": [
    "Almost half of the values for weight and height are missing, can we replace them somehow?\n",
    "Regarding the birth year, only 13 values are missing, we can easily drop those records without losing too much, but maybe we don't need birth year for the analysis? Same for nationality."
   ]
  },
  {
   "cell_type": "code",
   "execution_count": 29,
   "metadata": {},
   "outputs": [
    {
     "name": "stdout",
     "output_type": "stream",
     "text": [
      "48.0\n",
      "94.0\n",
      "46\n"
     ]
    }
   ],
   "source": [
    "# Print the min value of the weight column\n",
    "print(cyclists['weight'].min())\n",
    "# Print the max value of the weight column\n",
    "print(cyclists['weight'].max())\n",
    "# Calculate the optimal number of bins using max value - min value\n",
    "n_bins = int(cyclists['weight'].max() - cyclists['weight'].min())\n",
    "print(n_bins)"
   ]
  },
  {
   "cell_type": "code",
   "execution_count": 30,
   "metadata": {},
   "outputs": [
    {
     "data": {
      "text/plain": [
       "<seaborn.axisgrid.FacetGrid at 0x7f3186d15460>"
      ]
     },
     "execution_count": 30,
     "metadata": {},
     "output_type": "execute_result"
    },
    {
     "data": {
      "image/png": "[encoded data removed]",
      "text/plain": [
       "<Figure size 500x500 with 1 Axes>"
      ]
     },
     "metadata": {},
     "output_type": "display_data"
    }
   ],
   "source": [
    "sns.displot(cyclists, \n",
    "                x=\"weight\", \n",
    "                kind=\"hist\",\n",
    "                row_order=\"desc\",\n",
    "                bins=n_bins)"
   ]
  },
  {
   "cell_type": "code",
   "execution_count": 31,
   "metadata": {},
   "outputs": [
    {
     "name": "stderr",
     "output_type": "stream",
     "text": [
      "/home/davide/envs/DT/lib/python3.8/site-packages/scipy/stats/_stats_py.py:5278: RuntimeWarning: overflow encountered in scalar multiply\n",
      "  (2 * xtie * ytie) / m + x0 * y0 / (9 * m * (size - 2)))\n"
     ]
    },
    {
     "data": {
      "text/html": [
       "<div>\n",
       "<style scoped>\n",
       "    .dataframe tbody tr th:only-of-type {\n",
       "        vertical-align: middle;\n",
       "    }\n",
       "\n",
       "    .dataframe tbody tr th {\n",
       "        vertical-align: top;\n",
       "    }\n",
       "\n",
       "    .dataframe thead th {\n",
       "        text-align: right;\n",
       "    }\n",
       "</style>\n",
       "<table border=\"1\" class=\"dataframe\">\n",
       "  <thead>\n",
       "    <tr style=\"text-align: right;\">\n",
       "      <th></th>\n",
       "      <th>length</th>\n",
       "      <th>climb_total</th>\n",
       "      <th>average_temperature</th>\n",
       "      <th>position</th>\n",
       "      <th>cyclist_age</th>\n",
       "      <th>delta</th>\n",
       "      <th>correlation_type</th>\n",
       "    </tr>\n",
       "  </thead>\n",
       "  <tbody>\n",
       "    <tr>\n",
       "      <th>length</th>\n",
       "      <td>1.000000</td>\n",
       "      <td>0.285099</td>\n",
       "      <td>-0.095313</td>\n",
       "      <td>-0.015373</td>\n",
       "      <td>-0.002381</td>\n",
       "      <td>0.029217</td>\n",
       "      <td>kendall</td>\n",
       "    </tr>\n",
       "    <tr>\n",
       "      <th>climb_total</th>\n",
       "      <td>0.285099</td>\n",
       "      <td>1.000000</td>\n",
       "      <td>-0.079710</td>\n",
       "      <td>-0.023858</td>\n",
       "      <td>0.005533</td>\n",
       "      <td>0.356194</td>\n",
       "      <td>kendall</td>\n",
       "    </tr>\n",
       "    <tr>\n",
       "      <th>average_temperature</th>\n",
       "      <td>-0.095313</td>\n",
       "      <td>-0.079710</td>\n",
       "      <td>1.000000</td>\n",
       "      <td>0.015593</td>\n",
       "      <td>0.033887</td>\n",
       "      <td>0.023630</td>\n",
       "      <td>kendall</td>\n",
       "    </tr>\n",
       "    <tr>\n",
       "      <th>position</th>\n",
       "      <td>-0.015373</td>\n",
       "      <td>-0.023858</td>\n",
       "      <td>0.015593</td>\n",
       "      <td>1.000000</td>\n",
       "      <td>0.006378</td>\n",
       "      <td>0.296542</td>\n",
       "      <td>kendall</td>\n",
       "    </tr>\n",
       "    <tr>\n",
       "      <th>cyclist_age</th>\n",
       "      <td>-0.002381</td>\n",
       "      <td>0.005533</td>\n",
       "      <td>0.033887</td>\n",
       "      <td>0.006378</td>\n",
       "      <td>1.000000</td>\n",
       "      <td>-0.002685</td>\n",
       "      <td>kendall</td>\n",
       "    </tr>\n",
       "    <tr>\n",
       "      <th>delta</th>\n",
       "      <td>0.029217</td>\n",
       "      <td>0.356194</td>\n",
       "      <td>0.023630</td>\n",
       "      <td>0.296542</td>\n",
       "      <td>-0.002685</td>\n",
       "      <td>1.000000</td>\n",
       "      <td>kendall</td>\n",
       "    </tr>\n",
       "    <tr>\n",
       "      <th>length</th>\n",
       "      <td>1.000000</td>\n",
       "      <td>0.520616</td>\n",
       "      <td>-0.070199</td>\n",
       "      <td>-0.012024</td>\n",
       "      <td>0.003442</td>\n",
       "      <td>0.092850</td>\n",
       "      <td>pearson</td>\n",
       "    </tr>\n",
       "    <tr>\n",
       "      <th>climb_total</th>\n",
       "      <td>0.520616</td>\n",
       "      <td>1.000000</td>\n",
       "      <td>-0.128367</td>\n",
       "      <td>-0.040156</td>\n",
       "      <td>0.007315</td>\n",
       "      <td>0.371062</td>\n",
       "      <td>pearson</td>\n",
       "    </tr>\n",
       "    <tr>\n",
       "      <th>average_temperature</th>\n",
       "      <td>-0.070199</td>\n",
       "      <td>-0.128367</td>\n",
       "      <td>1.000000</td>\n",
       "      <td>0.022707</td>\n",
       "      <td>0.040716</td>\n",
       "      <td>0.056668</td>\n",
       "      <td>pearson</td>\n",
       "    </tr>\n",
       "    <tr>\n",
       "      <th>position</th>\n",
       "      <td>-0.012024</td>\n",
       "      <td>-0.040156</td>\n",
       "      <td>0.022707</td>\n",
       "      <td>1.000000</td>\n",
       "      <td>0.011984</td>\n",
       "      <td>0.272020</td>\n",
       "      <td>pearson</td>\n",
       "    </tr>\n",
       "    <tr>\n",
       "      <th>cyclist_age</th>\n",
       "      <td>0.003442</td>\n",
       "      <td>0.007315</td>\n",
       "      <td>0.040716</td>\n",
       "      <td>0.011984</td>\n",
       "      <td>1.000000</td>\n",
       "      <td>0.000995</td>\n",
       "      <td>pearson</td>\n",
       "    </tr>\n",
       "    <tr>\n",
       "      <th>delta</th>\n",
       "      <td>0.092850</td>\n",
       "      <td>0.371062</td>\n",
       "      <td>0.056668</td>\n",
       "      <td>0.272020</td>\n",
       "      <td>0.000995</td>\n",
       "      <td>1.000000</td>\n",
       "      <td>pearson</td>\n",
       "    </tr>\n",
       "    <tr>\n",
       "      <th>length</th>\n",
       "      <td>1.000000</td>\n",
       "      <td>0.407585</td>\n",
       "      <td>-0.135195</td>\n",
       "      <td>-0.023251</td>\n",
       "      <td>-0.003394</td>\n",
       "      <td>0.036094</td>\n",
       "      <td>spearman</td>\n",
       "    </tr>\n",
       "    <tr>\n",
       "      <th>climb_total</th>\n",
       "      <td>0.407585</td>\n",
       "      <td>1.000000</td>\n",
       "      <td>-0.119940</td>\n",
       "      <td>-0.035654</td>\n",
       "      <td>0.008018</td>\n",
       "      <td>0.515133</td>\n",
       "      <td>spearman</td>\n",
       "    </tr>\n",
       "    <tr>\n",
       "      <th>average_temperature</th>\n",
       "      <td>-0.135195</td>\n",
       "      <td>-0.119940</td>\n",
       "      <td>1.000000</td>\n",
       "      <td>0.022949</td>\n",
       "      <td>0.048218</td>\n",
       "      <td>0.035127</td>\n",
       "      <td>spearman</td>\n",
       "    </tr>\n",
       "    <tr>\n",
       "      <th>position</th>\n",
       "      <td>-0.023251</td>\n",
       "      <td>-0.035654</td>\n",
       "      <td>0.022949</td>\n",
       "      <td>1.000000</td>\n",
       "      <td>0.008884</td>\n",
       "      <td>0.425427</td>\n",
       "      <td>spearman</td>\n",
       "    </tr>\n",
       "    <tr>\n",
       "      <th>cyclist_age</th>\n",
       "      <td>-0.003394</td>\n",
       "      <td>0.008018</td>\n",
       "      <td>0.048218</td>\n",
       "      <td>0.008884</td>\n",
       "      <td>1.000000</td>\n",
       "      <td>-0.003843</td>\n",
       "      <td>spearman</td>\n",
       "    </tr>\n",
       "    <tr>\n",
       "      <th>delta</th>\n",
       "      <td>0.036094</td>\n",
       "      <td>0.515133</td>\n",
       "      <td>0.035127</td>\n",
       "      <td>0.425427</td>\n",
       "      <td>-0.003843</td>\n",
       "      <td>1.000000</td>\n",
       "      <td>spearman</td>\n",
       "    </tr>\n",
       "  </tbody>\n",
       "</table>\n",
       "</div>"
      ],
      "text/plain": [
       "                       length  climb_total  average_temperature  position  \\\n",
       "length               1.000000     0.285099            -0.095313 -0.015373   \n",
       "climb_total          0.285099     1.000000            -0.079710 -0.023858   \n",
       "average_temperature -0.095313    -0.079710             1.000000  0.015593   \n",
       "position            -0.015373    -0.023858             0.015593  1.000000   \n",
       "cyclist_age         -0.002381     0.005533             0.033887  0.006378   \n",
       "delta                0.029217     0.356194             0.023630  0.296542   \n",
       "length               1.000000     0.520616            -0.070199 -0.012024   \n",
       "climb_total          0.520616     1.000000            -0.128367 -0.040156   \n",
       "average_temperature -0.070199    -0.128367             1.000000  0.022707   \n",
       "position            -0.012024    -0.040156             0.022707  1.000000   \n",
       "cyclist_age          0.003442     0.007315             0.040716  0.011984   \n",
       "delta                0.092850     0.371062             0.056668  0.272020   \n",
       "length               1.000000     0.407585            -0.135195 -0.023251   \n",
       "climb_total          0.407585     1.000000            -0.119940 -0.035654   \n",
       "average_temperature -0.135195    -0.119940             1.000000  0.022949   \n",
       "position            -0.023251    -0.035654             0.022949  1.000000   \n",
       "cyclist_age         -0.003394     0.008018             0.048218  0.008884   \n",
       "delta                0.036094     0.515133             0.035127  0.425427   \n",
       "\n",
       "                     cyclist_age     delta correlation_type  \n",
       "length                 -0.002381  0.029217          kendall  \n",
       "climb_total             0.005533  0.356194          kendall  \n",
       "average_temperature     0.033887  0.023630          kendall  \n",
       "position                0.006378  0.296542          kendall  \n",
       "cyclist_age             1.000000 -0.002685          kendall  \n",
       "delta                  -0.002685  1.000000          kendall  \n",
       "length                  0.003442  0.092850          pearson  \n",
       "climb_total             0.007315  0.371062          pearson  \n",
       "average_temperature     0.040716  0.056668          pearson  \n",
       "position                0.011984  0.272020          pearson  \n",
       "cyclist_age             1.000000  0.000995          pearson  \n",
       "delta                   0.000995  1.000000          pearson  \n",
       "length                 -0.003394  0.036094         spearman  \n",
       "climb_total             0.008018  0.515133         spearman  \n",
       "average_temperature     0.048218  0.035127         spearman  \n",
       "position                0.008884  0.425427         spearman  \n",
       "cyclist_age             1.000000 -0.003843         spearman  \n",
       "delta                  -0.003843  1.000000         spearman  "
      ]
     },
     "execution_count": 31,
     "metadata": {},
     "output_type": "execute_result"
    }
   ],
   "source": [
    "races_numerical = races_numerical.astype('double')\n",
    "correlations = correlations(races_numerical)\n",
    "correlations"
   ]
  },
  {
   "cell_type": "code",
   "execution_count": 32,
   "metadata": {},
   "outputs": [
    {
     "name": "stdout",
     "output_type": "stream",
     "text": [
      "Cycleists weight median:\n",
      "69.0\n",
      "nationality\n",
      "Tunisia          82.0\n",
      "Albania          78.0\n",
      "Lithuania        77.0\n",
      "Namibia          75.0\n",
      "New Zealand      74.0\n",
      "                 ... \n",
      "Mexico           59.0\n",
      "Ethiopia         58.0\n",
      "Liechtenstein     NaN\n",
      "Yugoslavia        NaN\n",
      "Zimbabwe          NaN\n",
      "Name: weight, Length: 72, dtype: float64\n"
     ]
    },
    {
     "data": {
      "image/png": "[encoded data removed]",
      "text/plain": [
       "<Figure size 1200x600 with 1 Axes>"
      ]
     },
     "metadata": {},
     "output_type": "display_data"
    }
   ],
   "source": [
    "#Calcolate and show the median value of the weight column\n",
    "print(\"Cycleists weight median:\")\n",
    "median = cyclists['weight'].median()\n",
    "print(median)\n",
    "\n",
    "#Calcolate the median value for each nationality\n",
    "median_nationality = cyclists.groupby('nationality')['weight'].median().sort_values(ascending=False)\n",
    "print(median_nationality)\n",
    "\n",
    "# Plot the median weight for each nationality\n",
    "median_nationality.plot(kind='bar', figsize=(12, 6))\n",
    "plt.xlabel('Nationality')\n",
    "plt.ylabel('Median Weight')\n",
    "plt.title('Median Weight by Nationality')\n",
    "plt.show()\n",
    "\n"
   ]
  },
  {
   "cell_type": "code",
   "execution_count": 33,
   "metadata": {},
   "outputs": [
    {
     "name": "stdout",
     "output_type": "stream",
     "text": [
      "Weight is null, but height is not null:\n",
      "_url           72\n",
      "name           72\n",
      "birth_year     72\n",
      "weight          0\n",
      "height         72\n",
      "nationality    72\n",
      "dtype: int64\n",
      "Height is null, but weight is not null:\n",
      "_url           7\n",
      "name           7\n",
      "birth_year     7\n",
      "weight         7\n",
      "height         0\n",
      "nationality    7\n",
      "dtype: int64\n"
     ]
    }
   ],
   "source": [
    "# Count where the weight is null, but the height is not null\n",
    "missing_weight = cyclists[(cyclists['weight'].isnull()) & (cyclists['height'].notnull())]\n",
    "print(\"Weight is null, but height is not null:\")\n",
    "print(missing_weight.count())\n",
    "\n",
    "# Count where the height is null, but the weight is not null\n",
    "missing_height = cyclists[(cyclists['height'].isnull()) & (cyclists['weight'].notnull())]\n",
    "print(\"Height is null, but weight is not null:\")\n",
    "print(missing_height.count())"
   ]
  },
  {
   "cell_type": "code",
   "execution_count": 34,
   "metadata": {},
   "outputs": [
    {
     "name": "stdout",
     "output_type": "stream",
     "text": [
      "Percentage of missing values in the columns:\n",
      "_url            0.000000\n",
      "name            0.000000\n",
      "birth_year      0.211933\n",
      "weight         49.820672\n",
      "height         48.761004\n",
      "nationality     0.016303\n",
      "dtype: float64\n"
     ]
    }
   ],
   "source": [
    "# Print all % percentage of missing values in the columns\n",
    "print(\"Percentage of missing values in the columns:\")\n",
    "print(cyclists.isnull().mean() * 100)\n"
   ]
  },
  {
   "cell_type": "code",
   "execution_count": 35,
   "metadata": {},
   "outputs": [
    {
     "name": "stdout",
     "output_type": "stream",
     "text": [
      "Percentage of missing values in the columns:\n",
      "_url                    0.000000\n",
      "name                    0.000000\n",
      "points                  0.080866\n",
      "uci_points             57.433311\n",
      "length                  0.000000\n",
      "climb_total            24.928585\n",
      "profile                25.123376\n",
      "startlist_quality       0.000000\n",
      "average_temperature    94.925449\n",
      "date                    0.000000\n",
      "position                0.000000\n",
      "cyclist                 0.000000\n",
      "cyclist_age             0.019157\n",
      "is_tarmac               0.000000\n",
      "is_cobbled              0.000000\n",
      "is_gravel               0.000000\n",
      "cyclist_team           26.982615\n",
      "delta                   0.000000\n",
      "dtype: float64\n"
     ]
    }
   ],
   "source": [
    "print(\"Percentage of missing values in the columns:\")\n",
    "print(races.isnull().mean() * 100)"
   ]
  },
  {
   "cell_type": "code",
   "execution_count": 36,
   "metadata": {},
   "outputs": [
    {
     "name": "stderr",
     "output_type": "stream",
     "text": [
      "Counting races: 100%|██████████| 6134/6134 [00:53<00:00, 114.16it/s]\n"
     ]
    },
    {
     "name": "stdout",
     "output_type": "stream",
     "text": [
      "                         _url  race_count\n",
      "0                 bruno-surra           1\n",
      "1                  gerard-rue         222\n",
      "2                    jan-maas          49\n",
      "3        nathan-van-hooydonck         161\n",
      "4            jose-felix-parra          48\n",
      "...                       ...         ...\n",
      "6129  juan-jose-martinez-diaz           1\n",
      "6130           inigo-elosegui          26\n",
      "6131           paolo-alberati          12\n",
      "6132        jackson-rodriguez         113\n",
      "6133             ward-vanhoof           9\n",
      "\n",
      "[6134 rows x 2 columns]\n"
     ]
    }
   ],
   "source": [
    "cyclists_url = cyclists['_url'].to_numpy()\n",
    "\n",
    "races_array_flat = races.values.ravel().astype(str)\n",
    "\n",
    "def init_worker(races_array):\n",
    "    global races_array_flat\n",
    "    races_array_flat = races_array\n",
    "\n",
    "def count_occurrences(url):\n",
    "    return np.sum(races_array_flat == url)\n",
    "\n",
    "if __name__ == '__main__':\n",
    "    with ProcessPoolExecutor(max_workers=55, initializer=init_worker, initargs=(races_array_flat,)) as executor:\n",
    "        race_counts = list(tqdm(executor.map(\n",
    "            count_occurrences, cyclists_url),\n",
    "            total=len(cyclists_url), desc=\"Counting races\"))\n",
    "\n",
    "    race_counts_df = pd.DataFrame({'_url': cyclists_url, 'race_count': race_counts})\n",
    "    print(race_counts_df)"
   ]
  },
  {
   "cell_type": "markdown",
   "metadata": {},
   "source": [
    "# High correlation between height and weight\n",
    "As we can expect, weight and height are highly correlated, maybe we can merge the two features into one index?"
   ]
  },
  {
   "cell_type": "markdown",
   "metadata": {},
   "source": [
    "# Obbiettivi:\n",
    "- Capire i campi e a cosa possono servire\n",
    "- Quanti campi sono null per ogni matrice\n",
    "- pene\n",
    "- Che tipo di cleaning poter fare\n",
    "- "
   ]
  }
 ],
 "metadata": {
  "kernelspec": {
   "display_name": "DT",
   "language": "python",
   "name": "python3"
  },
  "language_info": {
   "codemirror_mode": {
    "name": "ipython",
    "version": 3
   },
   "file_extension": ".py",
   "mimetype": "text/x-python",
   "name": "python",
   "nbconvert_exporter": "python",
   "pygments_lexer": "ipython3",
   "version": "3.8.10"
  }
 },
 "nbformat": 4,
 "nbformat_minor": 2
}
