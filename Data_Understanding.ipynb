{
 "cells": [
  {
   "cell_type": "code",
   "execution_count": 1,
   "metadata": {},
   "outputs": [
    {
     "name": "stdout",
     "output_type": "stream",
     "text": [
      "Requirement already satisfied: pandas in c:\\users\\feder\\appdata\\local\\programs\\python\\python310\\lib\\site-packages (2.2.3)\n",
      "Requirement already satisfied: numpy>=1.22.4 in c:\\users\\feder\\appdata\\local\\programs\\python\\python310\\lib\\site-packages (from pandas) (1.24.2)\n",
      "Requirement already satisfied: python-dateutil>=2.8.2 in c:\\users\\feder\\appdata\\roaming\\python\\python310\\site-packages (from pandas) (2.8.2)\n",
      "Requirement already satisfied: pytz>=2020.1 in c:\\users\\feder\\appdata\\local\\programs\\python\\python310\\lib\\site-packages (from pandas) (2024.2)\n",
      "Requirement already satisfied: tzdata>=2022.7 in c:\\users\\feder\\appdata\\local\\programs\\python\\python310\\lib\\site-packages (from pandas) (2024.2)\n",
      "Requirement already satisfied: six>=1.5 in c:\\users\\feder\\appdata\\local\\programs\\python\\python310\\lib\\site-packages (from python-dateutil>=2.8.2->pandas) (1.16.0)\n"
     ]
    },
    {
     "name": "stderr",
     "output_type": "stream",
     "text": [
      "WARNING: There was an error checking the latest version of pip.\n"
     ]
    },
    {
     "name": "stdout",
     "output_type": "stream",
     "text": [
      "Requirement already satisfied: pandas in c:\\users\\feder\\appdata\\local\\programs\\python\\python310\\lib\\site-packages (2.2.3)\n",
      "Requirement already satisfied: numpy>=1.22.4 in c:\\users\\feder\\appdata\\local\\programs\\python\\python310\\lib\\site-packages (from pandas) (1.24.2)\n",
      "Requirement already satisfied: python-dateutil>=2.8.2 in c:\\users\\feder\\appdata\\roaming\\python\\python310\\site-packages (from pandas) (2.8.2)\n",
      "Requirement already satisfied: pytz>=2020.1 in c:\\users\\feder\\appdata\\local\\programs\\python\\python310\\lib\\site-packages (from pandas) (2024.2)\n",
      "Requirement already satisfied: tzdata>=2022.7 in c:\\users\\feder\\appdata\\local\\programs\\python\\python310\\lib\\site-packages (from pandas) (2024.2)\n",
      "Requirement already satisfied: six>=1.5 in c:\\users\\feder\\appdata\\local\\programs\\python\\python310\\lib\\site-packages (from python-dateutil>=2.8.2->pandas) (1.16.0)\n"
     ]
    },
    {
     "name": "stderr",
     "output_type": "stream",
     "text": [
      "WARNING: There was an error checking the latest version of pip.\n"
     ]
    }
   ],
   "source": [
    "!pip install pandas \n",
    "!pip install --upgrade pandas\n"
   ]
  },
  {
   "cell_type": "code",
   "execution_count": 19,
   "metadata": {},
   "outputs": [
    {
     "data": {
      "text/html": [
       "<div>\n",
       "<style scoped>\n",
       "    .dataframe tbody tr th:only-of-type {\n",
       "        vertical-align: middle;\n",
       "    }\n",
       "\n",
       "    .dataframe tbody tr th {\n",
       "        vertical-align: top;\n",
       "    }\n",
       "\n",
       "    .dataframe thead th {\n",
       "        text-align: right;\n",
       "    }\n",
       "</style>\n",
       "<table border=\"1\" class=\"dataframe\">\n",
       "  <thead>\n",
       "    <tr style=\"text-align: right;\">\n",
       "      <th></th>\n",
       "      <th>_url</th>\n",
       "      <th>name</th>\n",
       "      <th>birth_year</th>\n",
       "      <th>weight</th>\n",
       "      <th>height</th>\n",
       "      <th>nationality</th>\n",
       "    </tr>\n",
       "  </thead>\n",
       "  <tbody>\n",
       "    <tr>\n",
       "      <th>0</th>\n",
       "      <td>bruno-surra</td>\n",
       "      <td>Bruno  Surra</td>\n",
       "      <td>1964.0</td>\n",
       "      <td>NaN</td>\n",
       "      <td>NaN</td>\n",
       "      <td>Italy</td>\n",
       "    </tr>\n",
       "    <tr>\n",
       "      <th>1</th>\n",
       "      <td>gerard-rue</td>\n",
       "      <td>Gérard  Rué</td>\n",
       "      <td>1965.0</td>\n",
       "      <td>74.0</td>\n",
       "      <td>182.0</td>\n",
       "      <td>France</td>\n",
       "    </tr>\n",
       "    <tr>\n",
       "      <th>2</th>\n",
       "      <td>jan-maas</td>\n",
       "      <td>Jan  Maas</td>\n",
       "      <td>1996.0</td>\n",
       "      <td>69.0</td>\n",
       "      <td>189.0</td>\n",
       "      <td>Netherlands</td>\n",
       "    </tr>\n",
       "    <tr>\n",
       "      <th>3</th>\n",
       "      <td>nathan-van-hooydonck</td>\n",
       "      <td>Nathan Van Hooydonck</td>\n",
       "      <td>1995.0</td>\n",
       "      <td>78.0</td>\n",
       "      <td>192.0</td>\n",
       "      <td>Belgium</td>\n",
       "    </tr>\n",
       "    <tr>\n",
       "      <th>4</th>\n",
       "      <td>jose-felix-parra</td>\n",
       "      <td>José Félix  Parra</td>\n",
       "      <td>1997.0</td>\n",
       "      <td>55.0</td>\n",
       "      <td>171.0</td>\n",
       "      <td>Spain</td>\n",
       "    </tr>\n",
       "  </tbody>\n",
       "</table>\n",
       "</div>"
      ],
      "text/plain": [
       "                   _url                  name  birth_year  weight  height  \\\n",
       "0           bruno-surra          Bruno  Surra      1964.0     NaN     NaN   \n",
       "1            gerard-rue           Gérard  Rué      1965.0    74.0   182.0   \n",
       "2              jan-maas             Jan  Maas      1996.0    69.0   189.0   \n",
       "3  nathan-van-hooydonck  Nathan Van Hooydonck      1995.0    78.0   192.0   \n",
       "4      jose-felix-parra     José Félix  Parra      1997.0    55.0   171.0   \n",
       "\n",
       "   nationality  \n",
       "0        Italy  \n",
       "1       France  \n",
       "2  Netherlands  \n",
       "3      Belgium  \n",
       "4        Spain  "
      ]
     },
     "execution_count": 19,
     "metadata": {},
     "output_type": "execute_result"
    }
   ],
   "source": [
    "import pandas as pd\n",
    "\n",
    "# Carica il dataset da un file CSV\n",
    "cyclists = pd.read_csv('dataset/dataset/cyclists.csv')\n",
    "races = pd.read_csv('dataset/dataset/races.csv')\n",
    "# Mostra le prime righe del dataset\n",
    "cyclists.head()\n"
   ]
  },
  {
   "cell_type": "code",
   "execution_count": 3,
   "metadata": {},
   "outputs": [
    {
     "name": "stdout",
     "output_type": "stream",
     "text": [
      "<class 'pandas.core.frame.DataFrame'>\n",
      "RangeIndex: 6134 entries, 0 to 6133\n",
      "Data columns (total 6 columns):\n",
      " #   Column       Non-Null Count  Dtype  \n",
      "---  ------       --------------  -----  \n",
      " 0   _url         6134 non-null   object \n",
      " 1   name         6134 non-null   object \n",
      " 2   birth_year   6121 non-null   float64\n",
      " 3   weight       3078 non-null   float64\n",
      " 4   height       3143 non-null   float64\n",
      " 5   nationality  6133 non-null   object \n",
      "dtypes: float64(3), object(3)\n",
      "memory usage: 287.7+ KB\n"
     ]
    }
   ],
   "source": [
    "cyclists.info()\n"
   ]
  },
  {
   "cell_type": "code",
   "execution_count": 20,
   "metadata": {},
   "outputs": [
    {
     "name": "stdout",
     "output_type": "stream",
     "text": [
      "<class 'pandas.core.frame.DataFrame'>\n",
      "RangeIndex: 589865 entries, 0 to 589864\n",
      "Data columns (total 18 columns):\n",
      " #   Column               Non-Null Count   Dtype  \n",
      "---  ------               --------------   -----  \n",
      " 0   _url                 589865 non-null  object \n",
      " 1   name                 589865 non-null  object \n",
      " 2   points               589388 non-null  float64\n",
      " 3   uci_points           251086 non-null  float64\n",
      " 4   length               589865 non-null  float64\n",
      " 5   climb_total          442820 non-null  float64\n",
      " 6   profile              441671 non-null  float64\n",
      " 7   startlist_quality    589865 non-null  int64  \n",
      " 8   average_temperature  29933 non-null   float64\n",
      " 9   date                 589865 non-null  object \n",
      " 10  position             589865 non-null  int64  \n",
      " 11  cyclist              589865 non-null  object \n",
      " 12  cyclist_age          589752 non-null  float64\n",
      " 13  is_tarmac            589865 non-null  bool   \n",
      " 14  is_cobbled           589865 non-null  bool   \n",
      " 15  is_gravel            589865 non-null  bool   \n",
      " 16  cyclist_team         430704 non-null  object \n",
      " 17  delta                589865 non-null  float64\n",
      "dtypes: bool(3), float64(8), int64(2), object(5)\n",
      "memory usage: 69.2+ MB\n"
     ]
    }
   ],
   "source": [
    "races.info()"
   ]
  },
  {
   "cell_type": "code",
   "execution_count": 26,
   "metadata": {},
   "outputs": [],
   "source": [
    "races['points'] = races['points'].astype(object)\n",
    "races['uci_points'] = races['uci_points'].astype(object)\n",
    "races['profile'] = races['profile'].astype(object)\n",
    "races['startlist_quality'] = races['startlist_quality'].astype(object)\n",
    "\n"
   ]
  },
  {
   "cell_type": "markdown",
   "metadata": {},
   "source": [
    "Lo startlist_quality della gara è davvero categorico? Dato che è un valore che non è cappato potrebbe essere numerico."
   ]
  },
  {
   "cell_type": "code",
   "execution_count": 27,
   "metadata": {},
   "outputs": [
    {
     "name": "stdout",
     "output_type": "stream",
     "text": [
      "<class 'pandas.core.frame.DataFrame'>\n",
      "RangeIndex: 589865 entries, 0 to 589864\n",
      "Data columns (total 18 columns):\n",
      " #   Column               Non-Null Count   Dtype  \n",
      "---  ------               --------------   -----  \n",
      " 0   _url                 589865 non-null  object \n",
      " 1   name                 589865 non-null  object \n",
      " 2   points               589388 non-null  object \n",
      " 3   uci_points           251086 non-null  object \n",
      " 4   length               589865 non-null  float64\n",
      " 5   climb_total          442820 non-null  float64\n",
      " 6   profile              441671 non-null  object \n",
      " 7   startlist_quality    589865 non-null  object \n",
      " 8   average_temperature  29933 non-null   float64\n",
      " 9   date                 589865 non-null  object \n",
      " 10  position             589865 non-null  int64  \n",
      " 11  cyclist              589865 non-null  object \n",
      " 12  cyclist_age          589752 non-null  float64\n",
      " 13  is_tarmac            589865 non-null  bool   \n",
      " 14  is_cobbled           589865 non-null  bool   \n",
      " 15  is_gravel            589865 non-null  bool   \n",
      " 16  cyclist_team         430704 non-null  object \n",
      " 17  delta                589865 non-null  float64\n",
      "dtypes: bool(3), float64(5), int64(1), object(9)\n",
      "memory usage: 69.2+ MB\n"
     ]
    }
   ],
   "source": [
    "races.info()"
   ]
  },
  {
   "cell_type": "code",
   "execution_count": 21,
   "metadata": {},
   "outputs": [
    {
     "data": {
      "text/html": [
       "<div>\n",
       "<style scoped>\n",
       "    .dataframe tbody tr th:only-of-type {\n",
       "        vertical-align: middle;\n",
       "    }\n",
       "\n",
       "    .dataframe tbody tr th {\n",
       "        vertical-align: top;\n",
       "    }\n",
       "\n",
       "    .dataframe thead th {\n",
       "        text-align: right;\n",
       "    }\n",
       "</style>\n",
       "<table border=\"1\" class=\"dataframe\">\n",
       "  <thead>\n",
       "    <tr style=\"text-align: right;\">\n",
       "      <th></th>\n",
       "      <th>birth_year</th>\n",
       "      <th>weight</th>\n",
       "      <th>height</th>\n",
       "    </tr>\n",
       "  </thead>\n",
       "  <tbody>\n",
       "    <tr>\n",
       "      <th>0</th>\n",
       "      <td>1964.0</td>\n",
       "      <td>NaN</td>\n",
       "      <td>NaN</td>\n",
       "    </tr>\n",
       "    <tr>\n",
       "      <th>1</th>\n",
       "      <td>1965.0</td>\n",
       "      <td>74.0</td>\n",
       "      <td>182.0</td>\n",
       "    </tr>\n",
       "    <tr>\n",
       "      <th>2</th>\n",
       "      <td>1996.0</td>\n",
       "      <td>69.0</td>\n",
       "      <td>189.0</td>\n",
       "    </tr>\n",
       "    <tr>\n",
       "      <th>3</th>\n",
       "      <td>1995.0</td>\n",
       "      <td>78.0</td>\n",
       "      <td>192.0</td>\n",
       "    </tr>\n",
       "    <tr>\n",
       "      <th>4</th>\n",
       "      <td>1997.0</td>\n",
       "      <td>55.0</td>\n",
       "      <td>171.0</td>\n",
       "    </tr>\n",
       "    <tr>\n",
       "      <th>...</th>\n",
       "      <td>...</td>\n",
       "      <td>...</td>\n",
       "      <td>...</td>\n",
       "    </tr>\n",
       "    <tr>\n",
       "      <th>6129</th>\n",
       "      <td>1966.0</td>\n",
       "      <td>NaN</td>\n",
       "      <td>NaN</td>\n",
       "    </tr>\n",
       "    <tr>\n",
       "      <th>6130</th>\n",
       "      <td>1998.0</td>\n",
       "      <td>75.0</td>\n",
       "      <td>188.0</td>\n",
       "    </tr>\n",
       "    <tr>\n",
       "      <th>6131</th>\n",
       "      <td>1973.0</td>\n",
       "      <td>NaN</td>\n",
       "      <td>NaN</td>\n",
       "    </tr>\n",
       "    <tr>\n",
       "      <th>6132</th>\n",
       "      <td>1985.0</td>\n",
       "      <td>58.0</td>\n",
       "      <td>170.0</td>\n",
       "    </tr>\n",
       "    <tr>\n",
       "      <th>6133</th>\n",
       "      <td>1999.0</td>\n",
       "      <td>75.0</td>\n",
       "      <td>186.0</td>\n",
       "    </tr>\n",
       "  </tbody>\n",
       "</table>\n",
       "<p>6134 rows × 3 columns</p>\n",
       "</div>"
      ],
      "text/plain": [
       "      birth_year  weight  height\n",
       "0         1964.0     NaN     NaN\n",
       "1         1965.0    74.0   182.0\n",
       "2         1996.0    69.0   189.0\n",
       "3         1995.0    78.0   192.0\n",
       "4         1997.0    55.0   171.0\n",
       "...          ...     ...     ...\n",
       "6129      1966.0     NaN     NaN\n",
       "6130      1998.0    75.0   188.0\n",
       "6131      1973.0     NaN     NaN\n",
       "6132      1985.0    58.0   170.0\n",
       "6133      1999.0    75.0   186.0\n",
       "\n",
       "[6134 rows x 3 columns]"
      ]
     },
     "execution_count": 21,
     "metadata": {},
     "output_type": "execute_result"
    }
   ],
   "source": [
    "cyclists.select_dtypes(include=\"number\")\n"
   ]
  },
  {
   "cell_type": "code",
   "execution_count": 23,
   "metadata": {},
   "outputs": [
    {
     "data": {
      "text/plain": [
       "_url                        0\n",
       "name                        0\n",
       "points                    477\n",
       "uci_points             338779\n",
       "length                      0\n",
       "climb_total            147045\n",
       "profile                148194\n",
       "startlist_quality           0\n",
       "average_temperature    559932\n",
       "date                        0\n",
       "position                    0\n",
       "cyclist                     0\n",
       "cyclist_age               113\n",
       "is_tarmac                   0\n",
       "is_cobbled                  0\n",
       "is_gravel                   0\n",
       "cyclist_team           159161\n",
       "delta                       0\n",
       "dtype: int64"
      ]
     },
     "execution_count": 23,
     "metadata": {},
     "output_type": "execute_result"
    }
   ],
   "source": [
    "races.isnull().sum()"
   ]
  },
  {
   "cell_type": "code",
   "execution_count": 32,
   "metadata": {},
   "outputs": [],
   "source": [
    "races_numerical = races.select_dtypes(include=\"number\")\n"
   ]
  },
  {
   "cell_type": "code",
   "execution_count": 5,
   "metadata": {},
   "outputs": [
    {
     "data": {
      "text/plain": [
       "_url              0\n",
       "name              0\n",
       "birth_year       13\n",
       "weight         3056\n",
       "height         2991\n",
       "nationality       1\n",
       "dtype: int64"
      ]
     },
     "execution_count": 5,
     "metadata": {},
     "output_type": "execute_result"
    }
   ],
   "source": [
    "# Let's see how many missing values there are\n",
    "\n",
    "cyclists.isnull().sum()"
   ]
  },
  {
   "cell_type": "markdown",
   "metadata": {},
   "source": [
    "Almost half of the values for weight and height are missing, can we replace them somehow?\n",
    "Regarding the birth year, only 13 values are missing, we can easily drop those records without losing too much, but maybe we don't need birth year for the analysis? Same for nationality."
   ]
  },
  {
   "cell_type": "code",
   "execution_count": 6,
   "metadata": {},
   "outputs": [
    {
     "name": "stdout",
     "output_type": "stream",
     "text": [
      "Requirement already satisfied: seaborn in c:\\users\\feder\\appdata\\local\\programs\\python\\python310\\lib\\site-packages (0.12.2)\n",
      "Requirement already satisfied: numpy!=1.24.0,>=1.17 in c:\\users\\feder\\appdata\\local\\programs\\python\\python310\\lib\\site-packages (from seaborn) (1.24.2)\n",
      "Requirement already satisfied: pandas>=0.25 in c:\\users\\feder\\appdata\\local\\programs\\python\\python310\\lib\\site-packages (from seaborn) (2.2.3)\n",
      "Requirement already satisfied: matplotlib!=3.6.1,>=3.1 in c:\\users\\feder\\appdata\\local\\programs\\python\\python310\\lib\\site-packages (from seaborn) (3.7.1)\n",
      "Requirement already satisfied: contourpy>=1.0.1 in c:\\users\\feder\\appdata\\local\\programs\\python\\python310\\lib\\site-packages (from matplotlib!=3.6.1,>=3.1->seaborn) (1.0.7)\n",
      "Requirement already satisfied: cycler>=0.10 in c:\\users\\feder\\appdata\\local\\programs\\python\\python310\\lib\\site-packages (from matplotlib!=3.6.1,>=3.1->seaborn) (0.11.0)\n",
      "Requirement already satisfied: fonttools>=4.22.0 in c:\\users\\feder\\appdata\\local\\programs\\python\\python310\\lib\\site-packages (from matplotlib!=3.6.1,>=3.1->seaborn) (4.39.3)\n",
      "Requirement already satisfied: kiwisolver>=1.0.1 in c:\\users\\feder\\appdata\\local\\programs\\python\\python310\\lib\\site-packages (from matplotlib!=3.6.1,>=3.1->seaborn) (1.4.4)\n",
      "Requirement already satisfied: packaging>=20.0 in c:\\users\\feder\\appdata\\local\\programs\\python\\python310\\lib\\site-packages (from matplotlib!=3.6.1,>=3.1->seaborn) (23.0)\n",
      "Requirement already satisfied: pillow>=6.2.0 in c:\\users\\feder\\appdata\\local\\programs\\python\\python310\\lib\\site-packages (from matplotlib!=3.6.1,>=3.1->seaborn) (9.3.0)\n",
      "Requirement already satisfied: pyparsing>=2.3.1 in c:\\users\\feder\\appdata\\local\\programs\\python\\python310\\lib\\site-packages (from matplotlib!=3.6.1,>=3.1->seaborn) (3.0.9)\n",
      "Requirement already satisfied: python-dateutil>=2.7 in c:\\users\\feder\\appdata\\roaming\\python\\python310\\site-packages (from matplotlib!=3.6.1,>=3.1->seaborn) (2.8.2)\n",
      "Requirement already satisfied: pytz>=2020.1 in c:\\users\\feder\\appdata\\local\\programs\\python\\python310\\lib\\site-packages (from pandas>=0.25->seaborn) (2024.2)\n",
      "Requirement already satisfied: tzdata>=2022.7 in c:\\users\\feder\\appdata\\local\\programs\\python\\python310\\lib\\site-packages (from pandas>=0.25->seaborn) (2024.2)\n",
      "Requirement already satisfied: six>=1.5 in c:\\users\\feder\\appdata\\local\\programs\\python\\python310\\lib\\site-packages (from python-dateutil>=2.7->matplotlib!=3.6.1,>=3.1->seaborn) (1.16.0)\n"
     ]
    },
    {
     "name": "stderr",
     "output_type": "stream",
     "text": [
      "WARNING: There was an error checking the latest version of pip.\n"
     ]
    }
   ],
   "source": [
    "!pip install seaborn"
   ]
  },
  {
   "cell_type": "code",
   "execution_count": 12,
   "metadata": {},
   "outputs": [
    {
     "name": "stderr",
     "output_type": "stream",
     "text": [
      "c:\\Users\\feder\\AppData\\Local\\Programs\\Python\\Python310\\lib\\site-packages\\seaborn\\_oldcore.py:1119: FutureWarning: use_inf_as_na option is deprecated and will be removed in a future version. Convert inf values to NaN before operating instead.\n",
      "  with pd.option_context('mode.use_inf_as_na', True):\n"
     ]
    },
    {
     "data": {
      "text/plain": [
       "<seaborn.axisgrid.FacetGrid at 0x21a19b77eb0>"
      ]
     },
     "execution_count": 12,
     "metadata": {},
     "output_type": "execute_result"
    },
    {
     "data": {
      "image/png": "[encoded data removed]",
      "text/plain": [
       "<Figure size 500x500 with 1 Axes>"
      ]
     },
     "metadata": {},
     "output_type": "display_data"
    }
   ],
   "source": [
    "import seaborn\n",
    "\n",
    "seaborn.displot(cyclists, \n",
    "                x=\"weight\", \n",
    "                kind=\"hist\",\n",
    "                row_order=\"desc\",\n",
    "                bins=50)"
   ]
  },
  {
   "cell_type": "code",
   "execution_count": 8,
   "metadata": {},
   "outputs": [
    {
     "name": "stdout",
     "output_type": "stream",
     "text": [
      "Requirement already satisfied: scipy in c:\\users\\feder\\appdata\\local\\programs\\python\\python310\\lib\\site-packages (1.10.1)\n",
      "Requirement already satisfied: numpy<1.27.0,>=1.19.5 in c:\\users\\feder\\appdata\\local\\programs\\python\\python310\\lib\\site-packages (from scipy) (1.24.2)\n"
     ]
    },
    {
     "name": "stderr",
     "output_type": "stream",
     "text": [
      "WARNING: There was an error checking the latest version of pip.\n"
     ]
    }
   ],
   "source": [
    "!pip install scipy"
   ]
  },
  {
   "cell_type": "code",
   "execution_count": 38,
   "metadata": {},
   "outputs": [
    {
     "name": "stderr",
     "output_type": "stream",
     "text": [
      "c:\\Users\\feder\\AppData\\Local\\Programs\\Python\\Python310\\lib\\site-packages\\scipy\\stats\\_stats_py.py:5278: RuntimeWarning: overflow encountered in scalar multiply\n",
      "  (2 * xtie * ytie) / m + x0 * y0 / (9 * m * (size - 2)))\n"
     ]
    },
    {
     "data": {
      "text/html": [
       "<div>\n",
       "<style scoped>\n",
       "    .dataframe tbody tr th:only-of-type {\n",
       "        vertical-align: middle;\n",
       "    }\n",
       "\n",
       "    .dataframe tbody tr th {\n",
       "        vertical-align: top;\n",
       "    }\n",
       "\n",
       "    .dataframe thead th {\n",
       "        text-align: right;\n",
       "    }\n",
       "</style>\n",
       "<table border=\"1\" class=\"dataframe\">\n",
       "  <thead>\n",
       "    <tr style=\"text-align: right;\">\n",
       "      <th></th>\n",
       "      <th>length</th>\n",
       "      <th>climb_total</th>\n",
       "      <th>average_temperature</th>\n",
       "      <th>position</th>\n",
       "      <th>cyclist_age</th>\n",
       "      <th>delta</th>\n",
       "      <th>correlation_type</th>\n",
       "    </tr>\n",
       "  </thead>\n",
       "  <tbody>\n",
       "    <tr>\n",
       "      <th>length</th>\n",
       "      <td>1.000000</td>\n",
       "      <td>0.285099</td>\n",
       "      <td>-0.095313</td>\n",
       "      <td>-0.015373</td>\n",
       "      <td>-0.002381</td>\n",
       "      <td>0.029217</td>\n",
       "      <td>kendall</td>\n",
       "    </tr>\n",
       "    <tr>\n",
       "      <th>climb_total</th>\n",
       "      <td>0.285099</td>\n",
       "      <td>1.000000</td>\n",
       "      <td>-0.079710</td>\n",
       "      <td>-0.023858</td>\n",
       "      <td>0.005533</td>\n",
       "      <td>0.356194</td>\n",
       "      <td>kendall</td>\n",
       "    </tr>\n",
       "    <tr>\n",
       "      <th>average_temperature</th>\n",
       "      <td>-0.095313</td>\n",
       "      <td>-0.079710</td>\n",
       "      <td>1.000000</td>\n",
       "      <td>0.015593</td>\n",
       "      <td>0.033887</td>\n",
       "      <td>0.023630</td>\n",
       "      <td>kendall</td>\n",
       "    </tr>\n",
       "    <tr>\n",
       "      <th>position</th>\n",
       "      <td>-0.015373</td>\n",
       "      <td>-0.023858</td>\n",
       "      <td>0.015593</td>\n",
       "      <td>1.000000</td>\n",
       "      <td>0.006378</td>\n",
       "      <td>0.296542</td>\n",
       "      <td>kendall</td>\n",
       "    </tr>\n",
       "    <tr>\n",
       "      <th>cyclist_age</th>\n",
       "      <td>-0.002381</td>\n",
       "      <td>0.005533</td>\n",
       "      <td>0.033887</td>\n",
       "      <td>0.006378</td>\n",
       "      <td>1.000000</td>\n",
       "      <td>-0.002685</td>\n",
       "      <td>kendall</td>\n",
       "    </tr>\n",
       "    <tr>\n",
       "      <th>delta</th>\n",
       "      <td>0.029217</td>\n",
       "      <td>0.356194</td>\n",
       "      <td>0.023630</td>\n",
       "      <td>0.296542</td>\n",
       "      <td>-0.002685</td>\n",
       "      <td>1.000000</td>\n",
       "      <td>kendall</td>\n",
       "    </tr>\n",
       "    <tr>\n",
       "      <th>length</th>\n",
       "      <td>1.000000</td>\n",
       "      <td>0.520616</td>\n",
       "      <td>-0.070199</td>\n",
       "      <td>-0.012024</td>\n",
       "      <td>0.003442</td>\n",
       "      <td>0.092850</td>\n",
       "      <td>pearson</td>\n",
       "    </tr>\n",
       "    <tr>\n",
       "      <th>climb_total</th>\n",
       "      <td>0.520616</td>\n",
       "      <td>1.000000</td>\n",
       "      <td>-0.128367</td>\n",
       "      <td>-0.040156</td>\n",
       "      <td>0.007315</td>\n",
       "      <td>0.371062</td>\n",
       "      <td>pearson</td>\n",
       "    </tr>\n",
       "    <tr>\n",
       "      <th>average_temperature</th>\n",
       "      <td>-0.070199</td>\n",
       "      <td>-0.128367</td>\n",
       "      <td>1.000000</td>\n",
       "      <td>0.022707</td>\n",
       "      <td>0.040716</td>\n",
       "      <td>0.056668</td>\n",
       "      <td>pearson</td>\n",
       "    </tr>\n",
       "    <tr>\n",
       "      <th>position</th>\n",
       "      <td>-0.012024</td>\n",
       "      <td>-0.040156</td>\n",
       "      <td>0.022707</td>\n",
       "      <td>1.000000</td>\n",
       "      <td>0.011984</td>\n",
       "      <td>0.272020</td>\n",
       "      <td>pearson</td>\n",
       "    </tr>\n",
       "    <tr>\n",
       "      <th>cyclist_age</th>\n",
       "      <td>0.003442</td>\n",
       "      <td>0.007315</td>\n",
       "      <td>0.040716</td>\n",
       "      <td>0.011984</td>\n",
       "      <td>1.000000</td>\n",
       "      <td>0.000995</td>\n",
       "      <td>pearson</td>\n",
       "    </tr>\n",
       "    <tr>\n",
       "      <th>delta</th>\n",
       "      <td>0.092850</td>\n",
       "      <td>0.371062</td>\n",
       "      <td>0.056668</td>\n",
       "      <td>0.272020</td>\n",
       "      <td>0.000995</td>\n",
       "      <td>1.000000</td>\n",
       "      <td>pearson</td>\n",
       "    </tr>\n",
       "    <tr>\n",
       "      <th>length</th>\n",
       "      <td>1.000000</td>\n",
       "      <td>0.407585</td>\n",
       "      <td>-0.135195</td>\n",
       "      <td>-0.023251</td>\n",
       "      <td>-0.003394</td>\n",
       "      <td>0.036094</td>\n",
       "      <td>spearman</td>\n",
       "    </tr>\n",
       "    <tr>\n",
       "      <th>climb_total</th>\n",
       "      <td>0.407585</td>\n",
       "      <td>1.000000</td>\n",
       "      <td>-0.119940</td>\n",
       "      <td>-0.035654</td>\n",
       "      <td>0.008018</td>\n",
       "      <td>0.515133</td>\n",
       "      <td>spearman</td>\n",
       "    </tr>\n",
       "    <tr>\n",
       "      <th>average_temperature</th>\n",
       "      <td>-0.135195</td>\n",
       "      <td>-0.119940</td>\n",
       "      <td>1.000000</td>\n",
       "      <td>0.022949</td>\n",
       "      <td>0.048218</td>\n",
       "      <td>0.035127</td>\n",
       "      <td>spearman</td>\n",
       "    </tr>\n",
       "    <tr>\n",
       "      <th>position</th>\n",
       "      <td>-0.023251</td>\n",
       "      <td>-0.035654</td>\n",
       "      <td>0.022949</td>\n",
       "      <td>1.000000</td>\n",
       "      <td>0.008884</td>\n",
       "      <td>0.425427</td>\n",
       "      <td>spearman</td>\n",
       "    </tr>\n",
       "    <tr>\n",
       "      <th>cyclist_age</th>\n",
       "      <td>-0.003394</td>\n",
       "      <td>0.008018</td>\n",
       "      <td>0.048218</td>\n",
       "      <td>0.008884</td>\n",
       "      <td>1.000000</td>\n",
       "      <td>-0.003843</td>\n",
       "      <td>spearman</td>\n",
       "    </tr>\n",
       "    <tr>\n",
       "      <th>delta</th>\n",
       "      <td>0.036094</td>\n",
       "      <td>0.515133</td>\n",
       "      <td>0.035127</td>\n",
       "      <td>0.425427</td>\n",
       "      <td>-0.003843</td>\n",
       "      <td>1.000000</td>\n",
       "      <td>spearman</td>\n",
       "    </tr>\n",
       "  </tbody>\n",
       "</table>\n",
       "</div>"
      ],
      "text/plain": [
       "                       length  climb_total  average_temperature  position  \\\n",
       "length               1.000000     0.285099            -0.095313 -0.015373   \n",
       "climb_total          0.285099     1.000000            -0.079710 -0.023858   \n",
       "average_temperature -0.095313    -0.079710             1.000000  0.015593   \n",
       "position            -0.015373    -0.023858             0.015593  1.000000   \n",
       "cyclist_age         -0.002381     0.005533             0.033887  0.006378   \n",
       "delta                0.029217     0.356194             0.023630  0.296542   \n",
       "length               1.000000     0.520616            -0.070199 -0.012024   \n",
       "climb_total          0.520616     1.000000            -0.128367 -0.040156   \n",
       "average_temperature -0.070199    -0.128367             1.000000  0.022707   \n",
       "position            -0.012024    -0.040156             0.022707  1.000000   \n",
       "cyclist_age          0.003442     0.007315             0.040716  0.011984   \n",
       "delta                0.092850     0.371062             0.056668  0.272020   \n",
       "length               1.000000     0.407585            -0.135195 -0.023251   \n",
       "climb_total          0.407585     1.000000            -0.119940 -0.035654   \n",
       "average_temperature -0.135195    -0.119940             1.000000  0.022949   \n",
       "position            -0.023251    -0.035654             0.022949  1.000000   \n",
       "cyclist_age         -0.003394     0.008018             0.048218  0.008884   \n",
       "delta                0.036094     0.515133             0.035127  0.425427   \n",
       "\n",
       "                     cyclist_age     delta correlation_type  \n",
       "length                 -0.002381  0.029217          kendall  \n",
       "climb_total             0.005533  0.356194          kendall  \n",
       "average_temperature     0.033887  0.023630          kendall  \n",
       "position                0.006378  0.296542          kendall  \n",
       "cyclist_age             1.000000 -0.002685          kendall  \n",
       "delta                  -0.002685  1.000000          kendall  \n",
       "length                  0.003442  0.092850          pearson  \n",
       "climb_total             0.007315  0.371062          pearson  \n",
       "average_temperature     0.040716  0.056668          pearson  \n",
       "position                0.011984  0.272020          pearson  \n",
       "cyclist_age             1.000000  0.000995          pearson  \n",
       "delta                   0.000995  1.000000          pearson  \n",
       "length                 -0.003394  0.036094         spearman  \n",
       "climb_total             0.008018  0.515133         spearman  \n",
       "average_temperature     0.048218  0.035127         spearman  \n",
       "position                0.008884  0.425427         spearman  \n",
       "cyclist_age             1.000000 -0.003843         spearman  \n",
       "delta                  -0.003843  1.000000         spearman  "
      ]
     },
     "execution_count": 38,
     "metadata": {},
     "output_type": "execute_result"
    }
   ],
   "source": [
    "from dataunderstanding import correlations\n",
    "\n",
    "races_numerical = races_numerical.astype('double')\n",
    "correlations = correlations(races_numerical)\n",
    "correlations"
   ]
  },
  {
   "cell_type": "code",
   "execution_count": 9,
   "metadata": {},
   "outputs": [
    {
     "data": {
      "text/html": [
       "<div>\n",
       "<style scoped>\n",
       "    .dataframe tbody tr th:only-of-type {\n",
       "        vertical-align: middle;\n",
       "    }\n",
       "\n",
       "    .dataframe tbody tr th {\n",
       "        vertical-align: top;\n",
       "    }\n",
       "\n",
       "    .dataframe thead th {\n",
       "        text-align: right;\n",
       "    }\n",
       "</style>\n",
       "<table border=\"1\" class=\"dataframe\">\n",
       "  <thead>\n",
       "    <tr style=\"text-align: right;\">\n",
       "      <th></th>\n",
       "      <th>birth_year</th>\n",
       "      <th>weight</th>\n",
       "      <th>height</th>\n",
       "      <th>correlation_type</th>\n",
       "    </tr>\n",
       "  </thead>\n",
       "  <tbody>\n",
       "    <tr>\n",
       "      <th>birth_year</th>\n",
       "      <td>1.000000</td>\n",
       "      <td>-0.063740</td>\n",
       "      <td>0.094976</td>\n",
       "      <td>kendall</td>\n",
       "    </tr>\n",
       "    <tr>\n",
       "      <th>weight</th>\n",
       "      <td>-0.063740</td>\n",
       "      <td>1.000000</td>\n",
       "      <td>0.539760</td>\n",
       "      <td>kendall</td>\n",
       "    </tr>\n",
       "    <tr>\n",
       "      <th>height</th>\n",
       "      <td>0.094976</td>\n",
       "      <td>0.539760</td>\n",
       "      <td>1.000000</td>\n",
       "      <td>kendall</td>\n",
       "    </tr>\n",
       "    <tr>\n",
       "      <th>birth_year</th>\n",
       "      <td>1.000000</td>\n",
       "      <td>-0.104242</td>\n",
       "      <td>0.154252</td>\n",
       "      <td>pearson</td>\n",
       "    </tr>\n",
       "    <tr>\n",
       "      <th>weight</th>\n",
       "      <td>-0.104242</td>\n",
       "      <td>1.000000</td>\n",
       "      <td>0.720732</td>\n",
       "      <td>pearson</td>\n",
       "    </tr>\n",
       "    <tr>\n",
       "      <th>height</th>\n",
       "      <td>0.154252</td>\n",
       "      <td>0.720732</td>\n",
       "      <td>1.000000</td>\n",
       "      <td>pearson</td>\n",
       "    </tr>\n",
       "    <tr>\n",
       "      <th>birth_year</th>\n",
       "      <td>1.000000</td>\n",
       "      <td>-0.091220</td>\n",
       "      <td>0.137001</td>\n",
       "      <td>spearman</td>\n",
       "    </tr>\n",
       "    <tr>\n",
       "      <th>weight</th>\n",
       "      <td>-0.091220</td>\n",
       "      <td>1.000000</td>\n",
       "      <td>0.705189</td>\n",
       "      <td>spearman</td>\n",
       "    </tr>\n",
       "    <tr>\n",
       "      <th>height</th>\n",
       "      <td>0.137001</td>\n",
       "      <td>0.705189</td>\n",
       "      <td>1.000000</td>\n",
       "      <td>spearman</td>\n",
       "    </tr>\n",
       "  </tbody>\n",
       "</table>\n",
       "</div>"
      ],
      "text/plain": [
       "            birth_year    weight    height correlation_type\n",
       "birth_year    1.000000 -0.063740  0.094976          kendall\n",
       "weight       -0.063740  1.000000  0.539760          kendall\n",
       "height        0.094976  0.539760  1.000000          kendall\n",
       "birth_year    1.000000 -0.104242  0.154252          pearson\n",
       "weight       -0.104242  1.000000  0.720732          pearson\n",
       "height        0.154252  0.720732  1.000000          pearson\n",
       "birth_year    1.000000 -0.091220  0.137001         spearman\n",
       "weight       -0.091220  1.000000  0.705189         spearman\n",
       "height        0.137001  0.705189  1.000000         spearman"
      ]
     },
     "execution_count": 9,
     "metadata": {},
     "output_type": "execute_result"
    }
   ],
   "source": [
    "# Let's see the correlation between numerical data\n",
    "\n",
    "correlations = correlations(cyclists)\n",
    "correlations\n"
   ]
  },
  {
   "cell_type": "markdown",
   "metadata": {},
   "source": [
    "# High correlation between height and weight\n",
    "As we can expect, weight and height are highly correlated, maybe we can merge the two features into one index?"
   ]
  },
  {
   "cell_type": "markdown",
   "metadata": {},
   "source": [
    "# Obbiettivi:\n",
    "- Capire i campi e a cosa possono servire\n",
    "- Quanti campi sono null per ogni matrice\n",
    "- pene\n",
    "- Che tipo di cleaning poter fare\n",
    "- "
   ]
  }
 ],
 "metadata": {
  "kernelspec": {
   "display_name": "Python 3",
   "language": "python",
   "name": "python3"
  },
  "language_info": {
   "codemirror_mode": {
    "name": "ipython",
    "version": 3
   },
   "file_extension": ".py",
   "mimetype": "text/x-python",
   "name": "python",
   "nbconvert_exporter": "python",
   "pygments_lexer": "ipython3",
   "version": "3.10.2"
  }
 },
 "nbformat": 4,
 "nbformat_minor": 2
}
